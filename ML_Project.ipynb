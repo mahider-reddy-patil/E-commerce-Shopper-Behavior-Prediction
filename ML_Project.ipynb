{
  "cells": [
    {
      "cell_type": "code",
      "source": [
        "# This program uses various data analysis techniques to analyze a dataset of online shoppers' intentions. The program uses data visualization techniques such as histograms and countplots to visualize the data, as well as transforming categorical variables. The program also uses standardization and oversampling techniques to balance the dataset and improve accuracy. Finally, the program uses a support vector classifier to train the model and generate the results with a user-defined grid search parameter. The program can be used to analyze any dataset with the same structure as the online shoppers' intentions dataset. "
      ],
      "metadata": {
        "id": "tKS3l9Dz0h46"
      },
      "execution_count": 1,
      "outputs": []
    },
    {
      "cell_type": "code",
      "execution_count": 2,
      "metadata": {
        "colab": {
          "base_uri": "https://localhost:8080/"
        },
        "id": "c7f5hPMrtFn-",
        "outputId": "364242e5-0bbd-4d51-8288-74827ae1522a"
      },
      "outputs": [
        {
          "output_type": "stream",
          "name": "stdout",
          "text": [
            "Drive already mounted at /content/drive; to attempt to forcibly remount, call drive.mount(\"/content/drive\", force_remount=True).\n"
          ]
        }
      ],
      "source": [
        "# import all libraries to be used in the program\n",
        "import pandas as pd\n",
        "import numpy as np\n",
        "import matplotlib.pyplot as plt\n",
        "import seaborn as sns\n",
        "from sklearn import preprocessing\n",
        "from collections import Counter\n",
        "from numpy import where\n",
        "from sklearn import svm\n",
        "from sklearn.svm import SVC\n",
        "from imblearn.over_sampling import SMOTE\n",
        "from sklearn.model_selection import train_test_split\n",
        "from sklearn.model_selection import GridSearchCV, RepeatedStratifiedKFold\n",
        "from sklearn.linear_model import LogisticRegression\n",
        "from sklearn.metrics import confusion_matrix, precision_recall_curve, auc, roc_auc_score, roc_curve, recall_score, classification_report\n",
        "\n",
        "# mount gdrive with this code\n",
        "from google.colab import drive\n",
        "drive.mount('/content/drive')\n",
        "data_path = \"/content/drive/My Drive/Colab Notebooks/\"\n",
        "\n",
        "df = pd.read_csv('/content/drive/My Drive/Colab Notebooks/online_shoppers_intention.csv')"
      ]
    },
    {
      "cell_type": "code",
      "execution_count": 3,
      "metadata": {
        "colab": {
          "base_uri": "https://localhost:8080/"
        },
        "id": "9Nj7euLH02_F",
        "outputId": "08448b5d-b3d7-4bf7-a869-d00ae34e91e8"
      },
      "outputs": [
        {
          "output_type": "stream",
          "name": "stdout",
          "text": [
            "(12330, 18)\n"
          ]
        }
      ],
      "source": [
        "# To print the number of rows and columns in the dataframe\n",
        "print(df.shape)"
      ]
    },
    {
      "cell_type": "code",
      "execution_count": 4,
      "metadata": {
        "colab": {
          "base_uri": "https://localhost:8080/",
          "height": 704
        },
        "id": "7jWGDLr86hu3",
        "outputId": "9aebffad-d7ad-4a03-a173-130fa8ed9031"
      },
      "outputs": [
        {
          "output_type": "stream",
          "name": "stdout",
          "text": [
            "<class 'pandas.core.frame.DataFrame'>\n",
            "RangeIndex: 12330 entries, 0 to 12329\n",
            "Data columns (total 18 columns):\n",
            " #   Column                   Non-Null Count  Dtype  \n",
            "---  ------                   --------------  -----  \n",
            " 0   Administrative           12330 non-null  int64  \n",
            " 1   Administrative_Duration  12330 non-null  float64\n",
            " 2   Informational            12330 non-null  int64  \n",
            " 3   Informational_Duration   12330 non-null  float64\n",
            " 4   ProductRelated           12330 non-null  int64  \n",
            " 5   ProductRelated_Duration  12330 non-null  float64\n",
            " 6   BounceRates              12330 non-null  float64\n",
            " 7   ExitRates                12330 non-null  float64\n",
            " 8   PageValues               12330 non-null  float64\n",
            " 9   SpecialDay               12330 non-null  float64\n",
            " 10  Month                    12330 non-null  object \n",
            " 11  OperatingSystems         12330 non-null  int64  \n",
            " 12  Browser                  12330 non-null  int64  \n",
            " 13  Region                   12330 non-null  int64  \n",
            " 14  TrafficType              12330 non-null  int64  \n",
            " 15  VisitorType              12330 non-null  object \n",
            " 16  Weekend                  12330 non-null  bool   \n",
            " 17  Revenue                  12330 non-null  bool   \n",
            "dtypes: bool(2), float64(7), int64(7), object(2)\n",
            "memory usage: 1.5+ MB\n"
          ]
        },
        {
          "output_type": "execute_result",
          "data": {
            "text/plain": [
              "   Administrative  Administrative_Duration  Informational  \\\n",
              "0               0                      0.0              0   \n",
              "1               0                      0.0              0   \n",
              "2               0                      0.0              0   \n",
              "3               0                      0.0              0   \n",
              "4               0                      0.0              0   \n",
              "\n",
              "   Informational_Duration  ProductRelated  ProductRelated_Duration  \\\n",
              "0                     0.0               1                 0.000000   \n",
              "1                     0.0               2                64.000000   \n",
              "2                     0.0               1                 0.000000   \n",
              "3                     0.0               2                 2.666667   \n",
              "4                     0.0              10               627.500000   \n",
              "\n",
              "   BounceRates  ExitRates  PageValues  SpecialDay Month  OperatingSystems  \\\n",
              "0         0.20       0.20         0.0         0.0   Feb                 1   \n",
              "1         0.00       0.10         0.0         0.0   Feb                 2   \n",
              "2         0.20       0.20         0.0         0.0   Feb                 4   \n",
              "3         0.05       0.14         0.0         0.0   Feb                 3   \n",
              "4         0.02       0.05         0.0         0.0   Feb                 3   \n",
              "\n",
              "   Browser  Region  TrafficType        VisitorType  Weekend  Revenue  \n",
              "0        1       1            1  Returning_Visitor    False    False  \n",
              "1        2       1            2  Returning_Visitor    False    False  \n",
              "2        1       9            3  Returning_Visitor    False    False  \n",
              "3        2       2            4  Returning_Visitor    False    False  \n",
              "4        3       1            4  Returning_Visitor     True    False  "
            ],
            "text/html": [
              "\n",
              "  <div id=\"df-a836b8b9-483f-47e7-a8a8-6cc456cf3066\">\n",
              "    <div class=\"colab-df-container\">\n",
              "      <div>\n",
              "<style scoped>\n",
              "    .dataframe tbody tr th:only-of-type {\n",
              "        vertical-align: middle;\n",
              "    }\n",
              "\n",
              "    .dataframe tbody tr th {\n",
              "        vertical-align: top;\n",
              "    }\n",
              "\n",
              "    .dataframe thead th {\n",
              "        text-align: right;\n",
              "    }\n",
              "</style>\n",
              "<table border=\"1\" class=\"dataframe\">\n",
              "  <thead>\n",
              "    <tr style=\"text-align: right;\">\n",
              "      <th></th>\n",
              "      <th>Administrative</th>\n",
              "      <th>Administrative_Duration</th>\n",
              "      <th>Informational</th>\n",
              "      <th>Informational_Duration</th>\n",
              "      <th>ProductRelated</th>\n",
              "      <th>ProductRelated_Duration</th>\n",
              "      <th>BounceRates</th>\n",
              "      <th>ExitRates</th>\n",
              "      <th>PageValues</th>\n",
              "      <th>SpecialDay</th>\n",
              "      <th>Month</th>\n",
              "      <th>OperatingSystems</th>\n",
              "      <th>Browser</th>\n",
              "      <th>Region</th>\n",
              "      <th>TrafficType</th>\n",
              "      <th>VisitorType</th>\n",
              "      <th>Weekend</th>\n",
              "      <th>Revenue</th>\n",
              "    </tr>\n",
              "  </thead>\n",
              "  <tbody>\n",
              "    <tr>\n",
              "      <th>0</th>\n",
              "      <td>0</td>\n",
              "      <td>0.0</td>\n",
              "      <td>0</td>\n",
              "      <td>0.0</td>\n",
              "      <td>1</td>\n",
              "      <td>0.000000</td>\n",
              "      <td>0.20</td>\n",
              "      <td>0.20</td>\n",
              "      <td>0.0</td>\n",
              "      <td>0.0</td>\n",
              "      <td>Feb</td>\n",
              "      <td>1</td>\n",
              "      <td>1</td>\n",
              "      <td>1</td>\n",
              "      <td>1</td>\n",
              "      <td>Returning_Visitor</td>\n",
              "      <td>False</td>\n",
              "      <td>False</td>\n",
              "    </tr>\n",
              "    <tr>\n",
              "      <th>1</th>\n",
              "      <td>0</td>\n",
              "      <td>0.0</td>\n",
              "      <td>0</td>\n",
              "      <td>0.0</td>\n",
              "      <td>2</td>\n",
              "      <td>64.000000</td>\n",
              "      <td>0.00</td>\n",
              "      <td>0.10</td>\n",
              "      <td>0.0</td>\n",
              "      <td>0.0</td>\n",
              "      <td>Feb</td>\n",
              "      <td>2</td>\n",
              "      <td>2</td>\n",
              "      <td>1</td>\n",
              "      <td>2</td>\n",
              "      <td>Returning_Visitor</td>\n",
              "      <td>False</td>\n",
              "      <td>False</td>\n",
              "    </tr>\n",
              "    <tr>\n",
              "      <th>2</th>\n",
              "      <td>0</td>\n",
              "      <td>0.0</td>\n",
              "      <td>0</td>\n",
              "      <td>0.0</td>\n",
              "      <td>1</td>\n",
              "      <td>0.000000</td>\n",
              "      <td>0.20</td>\n",
              "      <td>0.20</td>\n",
              "      <td>0.0</td>\n",
              "      <td>0.0</td>\n",
              "      <td>Feb</td>\n",
              "      <td>4</td>\n",
              "      <td>1</td>\n",
              "      <td>9</td>\n",
              "      <td>3</td>\n",
              "      <td>Returning_Visitor</td>\n",
              "      <td>False</td>\n",
              "      <td>False</td>\n",
              "    </tr>\n",
              "    <tr>\n",
              "      <th>3</th>\n",
              "      <td>0</td>\n",
              "      <td>0.0</td>\n",
              "      <td>0</td>\n",
              "      <td>0.0</td>\n",
              "      <td>2</td>\n",
              "      <td>2.666667</td>\n",
              "      <td>0.05</td>\n",
              "      <td>0.14</td>\n",
              "      <td>0.0</td>\n",
              "      <td>0.0</td>\n",
              "      <td>Feb</td>\n",
              "      <td>3</td>\n",
              "      <td>2</td>\n",
              "      <td>2</td>\n",
              "      <td>4</td>\n",
              "      <td>Returning_Visitor</td>\n",
              "      <td>False</td>\n",
              "      <td>False</td>\n",
              "    </tr>\n",
              "    <tr>\n",
              "      <th>4</th>\n",
              "      <td>0</td>\n",
              "      <td>0.0</td>\n",
              "      <td>0</td>\n",
              "      <td>0.0</td>\n",
              "      <td>10</td>\n",
              "      <td>627.500000</td>\n",
              "      <td>0.02</td>\n",
              "      <td>0.05</td>\n",
              "      <td>0.0</td>\n",
              "      <td>0.0</td>\n",
              "      <td>Feb</td>\n",
              "      <td>3</td>\n",
              "      <td>3</td>\n",
              "      <td>1</td>\n",
              "      <td>4</td>\n",
              "      <td>Returning_Visitor</td>\n",
              "      <td>True</td>\n",
              "      <td>False</td>\n",
              "    </tr>\n",
              "  </tbody>\n",
              "</table>\n",
              "</div>\n",
              "      <button class=\"colab-df-convert\" onclick=\"convertToInteractive('df-a836b8b9-483f-47e7-a8a8-6cc456cf3066')\"\n",
              "              title=\"Convert this dataframe to an interactive table.\"\n",
              "              style=\"display:none;\">\n",
              "        \n",
              "  <svg xmlns=\"http://www.w3.org/2000/svg\" height=\"24px\"viewBox=\"0 0 24 24\"\n",
              "       width=\"24px\">\n",
              "    <path d=\"M0 0h24v24H0V0z\" fill=\"none\"/>\n",
              "    <path d=\"M18.56 5.44l.94 2.06.94-2.06 2.06-.94-2.06-.94-.94-2.06-.94 2.06-2.06.94zm-11 1L8.5 8.5l.94-2.06 2.06-.94-2.06-.94L8.5 2.5l-.94 2.06-2.06.94zm10 10l.94 2.06.94-2.06 2.06-.94-2.06-.94-.94-2.06-.94 2.06-2.06.94z\"/><path d=\"M17.41 7.96l-1.37-1.37c-.4-.4-.92-.59-1.43-.59-.52 0-1.04.2-1.43.59L10.3 9.45l-7.72 7.72c-.78.78-.78 2.05 0 2.83L4 21.41c.39.39.9.59 1.41.59.51 0 1.02-.2 1.41-.59l7.78-7.78 2.81-2.81c.8-.78.8-2.07 0-2.86zM5.41 20L4 18.59l7.72-7.72 1.47 1.35L5.41 20z\"/>\n",
              "  </svg>\n",
              "      </button>\n",
              "      \n",
              "  <style>\n",
              "    .colab-df-container {\n",
              "      display:flex;\n",
              "      flex-wrap:wrap;\n",
              "      gap: 12px;\n",
              "    }\n",
              "\n",
              "    .colab-df-convert {\n",
              "      background-color: #E8F0FE;\n",
              "      border: none;\n",
              "      border-radius: 50%;\n",
              "      cursor: pointer;\n",
              "      display: none;\n",
              "      fill: #1967D2;\n",
              "      height: 32px;\n",
              "      padding: 0 0 0 0;\n",
              "      width: 32px;\n",
              "    }\n",
              "\n",
              "    .colab-df-convert:hover {\n",
              "      background-color: #E2EBFA;\n",
              "      box-shadow: 0px 1px 2px rgba(60, 64, 67, 0.3), 0px 1px 3px 1px rgba(60, 64, 67, 0.15);\n",
              "      fill: #174EA6;\n",
              "    }\n",
              "\n",
              "    [theme=dark] .colab-df-convert {\n",
              "      background-color: #3B4455;\n",
              "      fill: #D2E3FC;\n",
              "    }\n",
              "\n",
              "    [theme=dark] .colab-df-convert:hover {\n",
              "      background-color: #434B5C;\n",
              "      box-shadow: 0px 1px 3px 1px rgba(0, 0, 0, 0.15);\n",
              "      filter: drop-shadow(0px 1px 2px rgba(0, 0, 0, 0.3));\n",
              "      fill: #FFFFFF;\n",
              "    }\n",
              "  </style>\n",
              "\n",
              "      <script>\n",
              "        const buttonEl =\n",
              "          document.querySelector('#df-a836b8b9-483f-47e7-a8a8-6cc456cf3066 button.colab-df-convert');\n",
              "        buttonEl.style.display =\n",
              "          google.colab.kernel.accessAllowed ? 'block' : 'none';\n",
              "\n",
              "        async function convertToInteractive(key) {\n",
              "          const element = document.querySelector('#df-a836b8b9-483f-47e7-a8a8-6cc456cf3066');\n",
              "          const dataTable =\n",
              "            await google.colab.kernel.invokeFunction('convertToInteractive',\n",
              "                                                     [key], {});\n",
              "          if (!dataTable) return;\n",
              "\n",
              "          const docLinkHtml = 'Like what you see? Visit the ' +\n",
              "            '<a target=\"_blank\" href=https://colab.research.google.com/notebooks/data_table.ipynb>data table notebook</a>'\n",
              "            + ' to learn more about interactive tables.';\n",
              "          element.innerHTML = '';\n",
              "          dataTable['output_type'] = 'display_data';\n",
              "          await google.colab.output.renderOutput(dataTable, element);\n",
              "          const docLink = document.createElement('div');\n",
              "          docLink.innerHTML = docLinkHtml;\n",
              "          element.appendChild(docLink);\n",
              "        }\n",
              "      </script>\n",
              "    </div>\n",
              "  </div>\n",
              "  "
            ]
          },
          "metadata": {},
          "execution_count": 4
        }
      ],
      "source": [
        "# To print the information about the data set like the data types, number of entries etc\n",
        "df.info()\n",
        "\n",
        "# To print the first 5 rows of the dataframe\n",
        "df.head()"
      ]
    },
    {
      "cell_type": "code",
      "execution_count": 5,
      "metadata": {
        "colab": {
          "base_uri": "https://localhost:8080/",
          "height": 364
        },
        "id": "8mIhXKfGRd1_",
        "outputId": "ec1e4f51-bc29-46f5-e079-2ff46f52581a"
      },
      "outputs": [
        {
          "output_type": "execute_result",
          "data": {
            "text/plain": [
              "       Administrative  Administrative_Duration  Informational  \\\n",
              "count    12330.000000             12330.000000   12330.000000   \n",
              "mean         2.315166                80.818611       0.503569   \n",
              "std          3.321784               176.779107       1.270156   \n",
              "min          0.000000                 0.000000       0.000000   \n",
              "25%          0.000000                 0.000000       0.000000   \n",
              "50%          1.000000                 7.500000       0.000000   \n",
              "75%          4.000000                93.256250       0.000000   \n",
              "max         27.000000              3398.750000      24.000000   \n",
              "\n",
              "       Informational_Duration  ProductRelated  ProductRelated_Duration  \\\n",
              "count            12330.000000    12330.000000             12330.000000   \n",
              "mean                34.472398       31.731468              1194.746220   \n",
              "std                140.749294       44.475503              1913.669288   \n",
              "min                  0.000000        0.000000                 0.000000   \n",
              "25%                  0.000000        7.000000               184.137500   \n",
              "50%                  0.000000       18.000000               598.936905   \n",
              "75%                  0.000000       38.000000              1464.157214   \n",
              "max               2549.375000      705.000000             63973.522230   \n",
              "\n",
              "        BounceRates     ExitRates    PageValues    SpecialDay  \\\n",
              "count  12330.000000  12330.000000  12330.000000  12330.000000   \n",
              "mean       0.022191      0.043073      5.889258      0.061427   \n",
              "std        0.048488      0.048597     18.568437      0.198917   \n",
              "min        0.000000      0.000000      0.000000      0.000000   \n",
              "25%        0.000000      0.014286      0.000000      0.000000   \n",
              "50%        0.003112      0.025156      0.000000      0.000000   \n",
              "75%        0.016813      0.050000      0.000000      0.000000   \n",
              "max        0.200000      0.200000    361.763742      1.000000   \n",
              "\n",
              "       OperatingSystems       Browser        Region   TrafficType  \n",
              "count      12330.000000  12330.000000  12330.000000  12330.000000  \n",
              "mean           2.124006      2.357097      3.147364      4.069586  \n",
              "std            0.911325      1.717277      2.401591      4.025169  \n",
              "min            1.000000      1.000000      1.000000      1.000000  \n",
              "25%            2.000000      2.000000      1.000000      2.000000  \n",
              "50%            2.000000      2.000000      3.000000      2.000000  \n",
              "75%            3.000000      2.000000      4.000000      4.000000  \n",
              "max            8.000000     13.000000      9.000000     20.000000  "
            ],
            "text/html": [
              "\n",
              "  <div id=\"df-0e2b8d08-e747-4466-8e0b-8e2c3c722bfe\">\n",
              "    <div class=\"colab-df-container\">\n",
              "      <div>\n",
              "<style scoped>\n",
              "    .dataframe tbody tr th:only-of-type {\n",
              "        vertical-align: middle;\n",
              "    }\n",
              "\n",
              "    .dataframe tbody tr th {\n",
              "        vertical-align: top;\n",
              "    }\n",
              "\n",
              "    .dataframe thead th {\n",
              "        text-align: right;\n",
              "    }\n",
              "</style>\n",
              "<table border=\"1\" class=\"dataframe\">\n",
              "  <thead>\n",
              "    <tr style=\"text-align: right;\">\n",
              "      <th></th>\n",
              "      <th>Administrative</th>\n",
              "      <th>Administrative_Duration</th>\n",
              "      <th>Informational</th>\n",
              "      <th>Informational_Duration</th>\n",
              "      <th>ProductRelated</th>\n",
              "      <th>ProductRelated_Duration</th>\n",
              "      <th>BounceRates</th>\n",
              "      <th>ExitRates</th>\n",
              "      <th>PageValues</th>\n",
              "      <th>SpecialDay</th>\n",
              "      <th>OperatingSystems</th>\n",
              "      <th>Browser</th>\n",
              "      <th>Region</th>\n",
              "      <th>TrafficType</th>\n",
              "    </tr>\n",
              "  </thead>\n",
              "  <tbody>\n",
              "    <tr>\n",
              "      <th>count</th>\n",
              "      <td>12330.000000</td>\n",
              "      <td>12330.000000</td>\n",
              "      <td>12330.000000</td>\n",
              "      <td>12330.000000</td>\n",
              "      <td>12330.000000</td>\n",
              "      <td>12330.000000</td>\n",
              "      <td>12330.000000</td>\n",
              "      <td>12330.000000</td>\n",
              "      <td>12330.000000</td>\n",
              "      <td>12330.000000</td>\n",
              "      <td>12330.000000</td>\n",
              "      <td>12330.000000</td>\n",
              "      <td>12330.000000</td>\n",
              "      <td>12330.000000</td>\n",
              "    </tr>\n",
              "    <tr>\n",
              "      <th>mean</th>\n",
              "      <td>2.315166</td>\n",
              "      <td>80.818611</td>\n",
              "      <td>0.503569</td>\n",
              "      <td>34.472398</td>\n",
              "      <td>31.731468</td>\n",
              "      <td>1194.746220</td>\n",
              "      <td>0.022191</td>\n",
              "      <td>0.043073</td>\n",
              "      <td>5.889258</td>\n",
              "      <td>0.061427</td>\n",
              "      <td>2.124006</td>\n",
              "      <td>2.357097</td>\n",
              "      <td>3.147364</td>\n",
              "      <td>4.069586</td>\n",
              "    </tr>\n",
              "    <tr>\n",
              "      <th>std</th>\n",
              "      <td>3.321784</td>\n",
              "      <td>176.779107</td>\n",
              "      <td>1.270156</td>\n",
              "      <td>140.749294</td>\n",
              "      <td>44.475503</td>\n",
              "      <td>1913.669288</td>\n",
              "      <td>0.048488</td>\n",
              "      <td>0.048597</td>\n",
              "      <td>18.568437</td>\n",
              "      <td>0.198917</td>\n",
              "      <td>0.911325</td>\n",
              "      <td>1.717277</td>\n",
              "      <td>2.401591</td>\n",
              "      <td>4.025169</td>\n",
              "    </tr>\n",
              "    <tr>\n",
              "      <th>min</th>\n",
              "      <td>0.000000</td>\n",
              "      <td>0.000000</td>\n",
              "      <td>0.000000</td>\n",
              "      <td>0.000000</td>\n",
              "      <td>0.000000</td>\n",
              "      <td>0.000000</td>\n",
              "      <td>0.000000</td>\n",
              "      <td>0.000000</td>\n",
              "      <td>0.000000</td>\n",
              "      <td>0.000000</td>\n",
              "      <td>1.000000</td>\n",
              "      <td>1.000000</td>\n",
              "      <td>1.000000</td>\n",
              "      <td>1.000000</td>\n",
              "    </tr>\n",
              "    <tr>\n",
              "      <th>25%</th>\n",
              "      <td>0.000000</td>\n",
              "      <td>0.000000</td>\n",
              "      <td>0.000000</td>\n",
              "      <td>0.000000</td>\n",
              "      <td>7.000000</td>\n",
              "      <td>184.137500</td>\n",
              "      <td>0.000000</td>\n",
              "      <td>0.014286</td>\n",
              "      <td>0.000000</td>\n",
              "      <td>0.000000</td>\n",
              "      <td>2.000000</td>\n",
              "      <td>2.000000</td>\n",
              "      <td>1.000000</td>\n",
              "      <td>2.000000</td>\n",
              "    </tr>\n",
              "    <tr>\n",
              "      <th>50%</th>\n",
              "      <td>1.000000</td>\n",
              "      <td>7.500000</td>\n",
              "      <td>0.000000</td>\n",
              "      <td>0.000000</td>\n",
              "      <td>18.000000</td>\n",
              "      <td>598.936905</td>\n",
              "      <td>0.003112</td>\n",
              "      <td>0.025156</td>\n",
              "      <td>0.000000</td>\n",
              "      <td>0.000000</td>\n",
              "      <td>2.000000</td>\n",
              "      <td>2.000000</td>\n",
              "      <td>3.000000</td>\n",
              "      <td>2.000000</td>\n",
              "    </tr>\n",
              "    <tr>\n",
              "      <th>75%</th>\n",
              "      <td>4.000000</td>\n",
              "      <td>93.256250</td>\n",
              "      <td>0.000000</td>\n",
              "      <td>0.000000</td>\n",
              "      <td>38.000000</td>\n",
              "      <td>1464.157214</td>\n",
              "      <td>0.016813</td>\n",
              "      <td>0.050000</td>\n",
              "      <td>0.000000</td>\n",
              "      <td>0.000000</td>\n",
              "      <td>3.000000</td>\n",
              "      <td>2.000000</td>\n",
              "      <td>4.000000</td>\n",
              "      <td>4.000000</td>\n",
              "    </tr>\n",
              "    <tr>\n",
              "      <th>max</th>\n",
              "      <td>27.000000</td>\n",
              "      <td>3398.750000</td>\n",
              "      <td>24.000000</td>\n",
              "      <td>2549.375000</td>\n",
              "      <td>705.000000</td>\n",
              "      <td>63973.522230</td>\n",
              "      <td>0.200000</td>\n",
              "      <td>0.200000</td>\n",
              "      <td>361.763742</td>\n",
              "      <td>1.000000</td>\n",
              "      <td>8.000000</td>\n",
              "      <td>13.000000</td>\n",
              "      <td>9.000000</td>\n",
              "      <td>20.000000</td>\n",
              "    </tr>\n",
              "  </tbody>\n",
              "</table>\n",
              "</div>\n",
              "      <button class=\"colab-df-convert\" onclick=\"convertToInteractive('df-0e2b8d08-e747-4466-8e0b-8e2c3c722bfe')\"\n",
              "              title=\"Convert this dataframe to an interactive table.\"\n",
              "              style=\"display:none;\">\n",
              "        \n",
              "  <svg xmlns=\"http://www.w3.org/2000/svg\" height=\"24px\"viewBox=\"0 0 24 24\"\n",
              "       width=\"24px\">\n",
              "    <path d=\"M0 0h24v24H0V0z\" fill=\"none\"/>\n",
              "    <path d=\"M18.56 5.44l.94 2.06.94-2.06 2.06-.94-2.06-.94-.94-2.06-.94 2.06-2.06.94zm-11 1L8.5 8.5l.94-2.06 2.06-.94-2.06-.94L8.5 2.5l-.94 2.06-2.06.94zm10 10l.94 2.06.94-2.06 2.06-.94-2.06-.94-.94-2.06-.94 2.06-2.06.94z\"/><path d=\"M17.41 7.96l-1.37-1.37c-.4-.4-.92-.59-1.43-.59-.52 0-1.04.2-1.43.59L10.3 9.45l-7.72 7.72c-.78.78-.78 2.05 0 2.83L4 21.41c.39.39.9.59 1.41.59.51 0 1.02-.2 1.41-.59l7.78-7.78 2.81-2.81c.8-.78.8-2.07 0-2.86zM5.41 20L4 18.59l7.72-7.72 1.47 1.35L5.41 20z\"/>\n",
              "  </svg>\n",
              "      </button>\n",
              "      \n",
              "  <style>\n",
              "    .colab-df-container {\n",
              "      display:flex;\n",
              "      flex-wrap:wrap;\n",
              "      gap: 12px;\n",
              "    }\n",
              "\n",
              "    .colab-df-convert {\n",
              "      background-color: #E8F0FE;\n",
              "      border: none;\n",
              "      border-radius: 50%;\n",
              "      cursor: pointer;\n",
              "      display: none;\n",
              "      fill: #1967D2;\n",
              "      height: 32px;\n",
              "      padding: 0 0 0 0;\n",
              "      width: 32px;\n",
              "    }\n",
              "\n",
              "    .colab-df-convert:hover {\n",
              "      background-color: #E2EBFA;\n",
              "      box-shadow: 0px 1px 2px rgba(60, 64, 67, 0.3), 0px 1px 3px 1px rgba(60, 64, 67, 0.15);\n",
              "      fill: #174EA6;\n",
              "    }\n",
              "\n",
              "    [theme=dark] .colab-df-convert {\n",
              "      background-color: #3B4455;\n",
              "      fill: #D2E3FC;\n",
              "    }\n",
              "\n",
              "    [theme=dark] .colab-df-convert:hover {\n",
              "      background-color: #434B5C;\n",
              "      box-shadow: 0px 1px 3px 1px rgba(0, 0, 0, 0.15);\n",
              "      filter: drop-shadow(0px 1px 2px rgba(0, 0, 0, 0.3));\n",
              "      fill: #FFFFFF;\n",
              "    }\n",
              "  </style>\n",
              "\n",
              "      <script>\n",
              "        const buttonEl =\n",
              "          document.querySelector('#df-0e2b8d08-e747-4466-8e0b-8e2c3c722bfe button.colab-df-convert');\n",
              "        buttonEl.style.display =\n",
              "          google.colab.kernel.accessAllowed ? 'block' : 'none';\n",
              "\n",
              "        async function convertToInteractive(key) {\n",
              "          const element = document.querySelector('#df-0e2b8d08-e747-4466-8e0b-8e2c3c722bfe');\n",
              "          const dataTable =\n",
              "            await google.colab.kernel.invokeFunction('convertToInteractive',\n",
              "                                                     [key], {});\n",
              "          if (!dataTable) return;\n",
              "\n",
              "          const docLinkHtml = 'Like what you see? Visit the ' +\n",
              "            '<a target=\"_blank\" href=https://colab.research.google.com/notebooks/data_table.ipynb>data table notebook</a>'\n",
              "            + ' to learn more about interactive tables.';\n",
              "          element.innerHTML = '';\n",
              "          dataTable['output_type'] = 'display_data';\n",
              "          await google.colab.output.renderOutput(dataTable, element);\n",
              "          const docLink = document.createElement('div');\n",
              "          docLink.innerHTML = docLinkHtml;\n",
              "          element.appendChild(docLink);\n",
              "        }\n",
              "      </script>\n",
              "    </div>\n",
              "  </div>\n",
              "  "
            ]
          },
          "metadata": {},
          "execution_count": 5
        }
      ],
      "source": [
        "# To print a summary of the dataframe with descriptive statistics, such as the mean, standard deviation, min, and max values for each column.\n",
        "df.describe()"
      ]
    },
    {
      "cell_type": "code",
      "execution_count": 6,
      "metadata": {
        "colab": {
          "base_uri": "https://localhost:8080/"
        },
        "id": "59K4fFzaSFp3",
        "outputId": "9669d9fa-625c-428b-b6db-76628d283697"
      },
      "outputs": [
        {
          "output_type": "stream",
          "name": "stdout",
          "text": [
            "\n",
            "Total number of null values in dataset: 0\n"
          ]
        }
      ],
      "source": [
        "# Check for null values in data\n",
        "null_count = df.isnull().sum()\n",
        "print('\\nTotal number of null values in dataset:', null_count.sum())"
      ]
    },
    {
      "cell_type": "code",
      "execution_count": 7,
      "metadata": {
        "colab": {
          "base_uri": "https://localhost:8080/"
        },
        "id": "EzHENfboRzea",
        "outputId": "a04ae5aa-b3db-441e-8b37-546c51c1b017"
      },
      "outputs": [
        {
          "output_type": "stream",
          "name": "stdout",
          "text": [
            "\n",
            " Administrative               27\n",
            "Administrative_Duration    3335\n",
            "Informational                17\n",
            "Informational_Duration     1258\n",
            "ProductRelated              311\n",
            "ProductRelated_Duration    9551\n",
            "BounceRates                1872\n",
            "ExitRates                  4777\n",
            "PageValues                 2704\n",
            "SpecialDay                    6\n",
            "Month                        10\n",
            "OperatingSystems              8\n",
            "Browser                      13\n",
            "Region                        9\n",
            "TrafficType                  20\n",
            "VisitorType                   3\n",
            "Weekend                       2\n",
            "Revenue                       2\n",
            "dtype: int64\n"
          ]
        }
      ],
      "source": [
        "# Checking for number of unique values for each feature\n",
        "uniques = df.nunique(axis=0)\n",
        "print('\\n', uniques)"
      ]
    },
    {
      "cell_type": "code",
      "execution_count": 8,
      "metadata": {
        "colab": {
          "base_uri": "https://localhost:8080/",
          "height": 879
        },
        "id": "-N47cGsm1nvK",
        "outputId": "7d904986-e9a4-4087-b3b0-05b2f41cc1f5"
      },
      "outputs": [
        {
          "output_type": "display_data",
          "data": {
            "text/plain": [
              "<Figure size 1440x1080 with 16 Axes>"
            ],
            "image/png": "[encoded data removed]"
          },
          "metadata": {
            "needs_background": "light"
          }
        }
      ],
      "source": [
        "# To plot a histogram of the data set to visualize the distribution of the data\n",
        "df.hist(bins=50, figsize=(20,15))\n",
        "plt.show()"
      ]
    },
    {
      "cell_type": "code",
      "execution_count": 9,
      "metadata": {
        "colab": {
          "base_uri": "https://localhost:8080/",
          "height": 386
        },
        "id": "-wPkvnQSSefl",
        "outputId": "12e12cff-eb95-40b5-a0e5-04f213d695fe"
      },
      "outputs": [
        {
          "output_type": "stream",
          "name": "stderr",
          "text": [
            "/usr/local/lib/python3.8/dist-packages/seaborn/_decorators.py:36: FutureWarning: Pass the following variable as a keyword arg: x. From version 0.12, the only valid positional argument will be `data`, and passing other arguments without an explicit keyword will result in an error or misinterpretation.\n",
            "  warnings.warn(\n"
          ]
        },
        {
          "output_type": "display_data",
          "data": {
            "text/plain": [
              "<Figure size 432x288 with 1 Axes>"
            ],
            "image/png": "[encoded data removed]"
          },
          "metadata": {
            "needs_background": "light"
          }
        },
        {
          "output_type": "execute_result",
          "data": {
            "text/plain": [
              "False    10422\n",
              "True      1908\n",
              "Name: Revenue, dtype: int64"
            ]
          },
          "metadata": {},
          "execution_count": 9
        }
      ],
      "source": [
        "# creating a countplot of the variable \"Revenue\" in the dataframe\n",
        "sns.countplot(df['Revenue'])\n",
        "plt.show()\n",
        "df[\"Revenue\"].value_counts()"
      ]
    },
    {
      "cell_type": "code",
      "execution_count": 10,
      "metadata": {
        "colab": {
          "base_uri": "https://localhost:8080/",
          "height": 527
        },
        "id": "HSM8Qccu5xzX",
        "outputId": "b1a00853-695d-452a-9e26-0a61b026094f"
      },
      "outputs": [
        {
          "output_type": "stream",
          "name": "stderr",
          "text": [
            "/usr/local/lib/python3.8/dist-packages/seaborn/_decorators.py:36: FutureWarning: Pass the following variable as a keyword arg: x. From version 0.12, the only valid positional argument will be `data`, and passing other arguments without an explicit keyword will result in an error or misinterpretation.\n",
            "  warnings.warn(\n"
          ]
        },
        {
          "output_type": "display_data",
          "data": {
            "text/plain": [
              "<Figure size 432x288 with 1 Axes>"
            ],
            "image/png": "[encoded data removed]"
          },
          "metadata": {
            "needs_background": "light"
          }
        },
        {
          "output_type": "execute_result",
          "data": {
            "text/plain": [
              "May     3364\n",
              "Nov     2998\n",
              "Mar     1907\n",
              "Dec     1727\n",
              "Oct      549\n",
              "Sep      448\n",
              "Aug      433\n",
              "Jul      432\n",
              "June     288\n",
              "Feb      184\n",
              "Name: Month, dtype: int64"
            ]
          },
          "metadata": {},
          "execution_count": 10
        }
      ],
      "source": [
        "# creating a countplot of the variable \"Month\" in the dataframe\n",
        "sns.countplot(df['Month'])\n",
        "plt.show()\n",
        "df[\"Month\"].value_counts()"
      ]
    },
    {
      "cell_type": "code",
      "execution_count": 11,
      "metadata": {
        "colab": {
          "base_uri": "https://localhost:8080/",
          "height": 404
        },
        "id": "auWi0SgV5pb3",
        "outputId": "694859c5-e026-45ca-df17-7ef0241f9fad"
      },
      "outputs": [
        {
          "output_type": "stream",
          "name": "stderr",
          "text": [
            "/usr/local/lib/python3.8/dist-packages/seaborn/_decorators.py:36: FutureWarning: Pass the following variable as a keyword arg: x. From version 0.12, the only valid positional argument will be `data`, and passing other arguments without an explicit keyword will result in an error or misinterpretation.\n",
            "  warnings.warn(\n"
          ]
        },
        {
          "output_type": "display_data",
          "data": {
            "text/plain": [
              "<Figure size 432x288 with 1 Axes>"
            ],
            "image/png": "[encoded data removed]"
          },
          "metadata": {
            "needs_background": "light"
          }
        },
        {
          "output_type": "execute_result",
          "data": {
            "text/plain": [
              "Returning_Visitor    10551\n",
              "New_Visitor           1694\n",
              "Other                   85\n",
              "Name: VisitorType, dtype: int64"
            ]
          },
          "metadata": {},
          "execution_count": 11
        }
      ],
      "source": [
        "# creating a countplot of the variable \"VisitorType\" in the dataframe\n",
        "sns.countplot(df['VisitorType'])\n",
        "plt.show()\n",
        "df[\"VisitorType\"].value_counts()"
      ]
    },
    {
      "cell_type": "code",
      "execution_count": 12,
      "metadata": {
        "colab": {
          "base_uri": "https://localhost:8080/"
        },
        "id": "mqd641C37AZS",
        "outputId": "91229365-ae9b-494d-94d2-3cadf90b11a6"
      },
      "outputs": [
        {
          "output_type": "stream",
          "name": "stdout",
          "text": [
            "<class 'pandas.core.frame.DataFrame'>\n",
            "RangeIndex: 12330 entries, 0 to 12329\n",
            "Data columns (total 75 columns):\n",
            " #   Column                         Non-Null Count  Dtype  \n",
            "---  ------                         --------------  -----  \n",
            " 0   Administrative                 12330 non-null  int64  \n",
            " 1   Administrative_Duration        12330 non-null  float64\n",
            " 2   Informational                  12330 non-null  int64  \n",
            " 3   Informational_Duration         12330 non-null  float64\n",
            " 4   ProductRelated                 12330 non-null  int64  \n",
            " 5   ProductRelated_Duration        12330 non-null  float64\n",
            " 6   BounceRates                    12330 non-null  float64\n",
            " 7   ExitRates                      12330 non-null  float64\n",
            " 8   PageValues                     12330 non-null  float64\n",
            " 9   SpecialDay                     12330 non-null  float64\n",
            " 10  Weekend                        12330 non-null  int64  \n",
            " 11  Revenue                        12330 non-null  int64  \n",
            " 12  Month_Aug                      12330 non-null  uint8  \n",
            " 13  Month_Dec                      12330 non-null  uint8  \n",
            " 14  Month_Feb                      12330 non-null  uint8  \n",
            " 15  Month_Jul                      12330 non-null  uint8  \n",
            " 16  Month_June                     12330 non-null  uint8  \n",
            " 17  Month_Mar                      12330 non-null  uint8  \n",
            " 18  Month_May                      12330 non-null  uint8  \n",
            " 19  Month_Nov                      12330 non-null  uint8  \n",
            " 20  Month_Oct                      12330 non-null  uint8  \n",
            " 21  Month_Sep                      12330 non-null  uint8  \n",
            " 22  OperatingSystems_1             12330 non-null  uint8  \n",
            " 23  OperatingSystems_2             12330 non-null  uint8  \n",
            " 24  OperatingSystems_3             12330 non-null  uint8  \n",
            " 25  OperatingSystems_4             12330 non-null  uint8  \n",
            " 26  OperatingSystems_5             12330 non-null  uint8  \n",
            " 27  OperatingSystems_6             12330 non-null  uint8  \n",
            " 28  OperatingSystems_7             12330 non-null  uint8  \n",
            " 29  OperatingSystems_8             12330 non-null  uint8  \n",
            " 30  Browser_1                      12330 non-null  uint8  \n",
            " 31  Browser_2                      12330 non-null  uint8  \n",
            " 32  Browser_3                      12330 non-null  uint8  \n",
            " 33  Browser_4                      12330 non-null  uint8  \n",
            " 34  Browser_5                      12330 non-null  uint8  \n",
            " 35  Browser_6                      12330 non-null  uint8  \n",
            " 36  Browser_7                      12330 non-null  uint8  \n",
            " 37  Browser_8                      12330 non-null  uint8  \n",
            " 38  Browser_9                      12330 non-null  uint8  \n",
            " 39  Browser_10                     12330 non-null  uint8  \n",
            " 40  Browser_11                     12330 non-null  uint8  \n",
            " 41  Browser_12                     12330 non-null  uint8  \n",
            " 42  Browser_13                     12330 non-null  uint8  \n",
            " 43  Region_1                       12330 non-null  uint8  \n",
            " 44  Region_2                       12330 non-null  uint8  \n",
            " 45  Region_3                       12330 non-null  uint8  \n",
            " 46  Region_4                       12330 non-null  uint8  \n",
            " 47  Region_5                       12330 non-null  uint8  \n",
            " 48  Region_6                       12330 non-null  uint8  \n",
            " 49  Region_7                       12330 non-null  uint8  \n",
            " 50  Region_8                       12330 non-null  uint8  \n",
            " 51  Region_9                       12330 non-null  uint8  \n",
            " 52  TrafficType_1                  12330 non-null  uint8  \n",
            " 53  TrafficType_2                  12330 non-null  uint8  \n",
            " 54  TrafficType_3                  12330 non-null  uint8  \n",
            " 55  TrafficType_4                  12330 non-null  uint8  \n",
            " 56  TrafficType_5                  12330 non-null  uint8  \n",
            " 57  TrafficType_6                  12330 non-null  uint8  \n",
            " 58  TrafficType_7                  12330 non-null  uint8  \n",
            " 59  TrafficType_8                  12330 non-null  uint8  \n",
            " 60  TrafficType_9                  12330 non-null  uint8  \n",
            " 61  TrafficType_10                 12330 non-null  uint8  \n",
            " 62  TrafficType_11                 12330 non-null  uint8  \n",
            " 63  TrafficType_12                 12330 non-null  uint8  \n",
            " 64  TrafficType_13                 12330 non-null  uint8  \n",
            " 65  TrafficType_14                 12330 non-null  uint8  \n",
            " 66  TrafficType_15                 12330 non-null  uint8  \n",
            " 67  TrafficType_16                 12330 non-null  uint8  \n",
            " 68  TrafficType_17                 12330 non-null  uint8  \n",
            " 69  TrafficType_18                 12330 non-null  uint8  \n",
            " 70  TrafficType_19                 12330 non-null  uint8  \n",
            " 71  TrafficType_20                 12330 non-null  uint8  \n",
            " 72  VisitorType_New_Visitor        12330 non-null  uint8  \n",
            " 73  VisitorType_Other              12330 non-null  uint8  \n",
            " 74  VisitorType_Returning_Visitor  12330 non-null  uint8  \n",
            "dtypes: float64(7), int64(5), uint8(63)\n",
            "memory usage: 1.9 MB\n"
          ]
        }
      ],
      "source": [
        "# Transforming categorical variables\n",
        "data = df.copy()\n",
        "\n",
        "data = pd.get_dummies(data,columns=[\"Month\"])\n",
        "data = pd.get_dummies(data,columns=[\"OperatingSystems\"])\n",
        "data = pd.get_dummies(data,columns=[\"Browser\"])\n",
        "data = pd.get_dummies(data,columns=[\"Region\"])\n",
        "data = pd.get_dummies(data,columns=[\"TrafficType\"])\n",
        "data = pd.get_dummies(data,columns=[\"VisitorType\"])\n",
        "data[\"Weekend\"] = data[\"Weekend\"].map({True:1, False:0})\n",
        "data[\"Revenue\"] = data[\"Revenue\"].map({True:1, False:0})\n",
        "\n",
        "data.info()"
      ]
    },
    {
      "cell_type": "code",
      "execution_count": 13,
      "metadata": {
        "id": "eyX6qHG-ziym"
      },
      "outputs": [],
      "source": [
        "# dropping the referrence varibles/columns\n",
        "data.drop(labels = ['Month_Feb' , 'OperatingSystems_1' , 'Browser_1' ,  'Region_1' , 'TrafficType_1' , 'VisitorType_New_Visitor' ],\n",
        "                axis = 1, inplace = True)"
      ]
    },
    {
      "cell_type": "code",
      "execution_count": 14,
      "metadata": {
        "colab": {
          "base_uri": "https://localhost:8080/"
        },
        "id": "dLDswUoW9vNl",
        "outputId": "81a5637c-59b1-427e-a25a-99c8d0e7d6cd"
      },
      "outputs": [
        {
          "output_type": "stream",
          "name": "stdout",
          "text": [
            "Shape of X:  (12330, 68)\n",
            "Shape of y:  (12330,)\n"
          ]
        }
      ],
      "source": [
        "# standardizing the data\n",
        "X_need_scaling = data.drop(labels=['Revenue'], axis=1)\n",
        "X = preprocessing.scale(X_need_scaling)\n",
        "y = data[\"Revenue\"]\n",
        "\n",
        "# checking the shape of X and y variables\n",
        "print(\"Shape of X: \", X.shape)\n",
        "print(\"Shape of y: \", y.shape)"
      ]
    },
    {
      "cell_type": "code",
      "source": [
        "# creating a scatter plot of Revenue with class labels\n",
        "\n",
        "counter = Counter(y)\n",
        "print(counter)\n",
        "for label, _ in counter.items():\n",
        " row_ix = where(y == label)[0]\n",
        " plt.scatter(X[row_ix, 0], X[row_ix, 1], label=str(label))\n",
        "plt.legend()\n",
        "plt.show()"
      ],
      "metadata": {
        "colab": {
          "base_uri": "https://localhost:8080/",
          "height": 282
        },
        "id": "n9WUN3FqT4zQ",
        "outputId": "79f0b098-5ecb-4680-e0ac-4c75ce5b1559"
      },
      "execution_count": 15,
      "outputs": [
        {
          "output_type": "stream",
          "name": "stdout",
          "text": [
            "Counter({0: 10422, 1: 1908})\n"
          ]
        },
        {
          "output_type": "display_data",
          "data": {
            "text/plain": [
              "<Figure size 432x288 with 1 Axes>"
            ],
            "image/png": "[encoded data removed]"
          },
          "metadata": {
            "needs_background": "light"
          }
        }
      ]
    },
    {
      "cell_type": "code",
      "execution_count": 16,
      "metadata": {
        "colab": {
          "base_uri": "https://localhost:8080/"
        },
        "id": "b-7yxXX5CZVE",
        "outputId": "fcfc1e71-86a6-40db-bd24-a4ab02664a5f"
      },
      "outputs": [
        {
          "output_type": "stream",
          "name": "stdout",
          "text": [
            "Shape of x_train : (8631, 68)\n",
            "Shape of y_train : (8631,)\n",
            "Shape of x_test : (3699, 68)\n",
            "Shape of y_test : (3699,)\n"
          ]
        }
      ],
      "source": [
        "# split the data into train and test sets\n",
        "X_train, X_test, y_train, y_test = train_test_split(X, y, test_size=0.3, random_state=0) \n",
        "\n",
        "# checking the shapes\n",
        "print(\"Shape of x_train :\", X_train.shape)\n",
        "print(\"Shape of y_train :\", y_train.shape)\n",
        "print(\"Shape of x_test :\", X_test.shape)\n",
        "print(\"Shape of y_test :\", y_test.shape)"
      ]
    },
    {
      "cell_type": "code",
      "execution_count": 17,
      "metadata": {
        "colab": {
          "base_uri": "https://localhost:8080/"
        },
        "id": "fsbMM1cEGv6e",
        "outputId": "4670b842-929e-42f1-ae78-dfa69d20aabd"
      },
      "outputs": [
        {
          "output_type": "stream",
          "name": "stdout",
          "text": [
            "Before OverSampling, counts of label '1': 1286\n",
            "Before OverSampling, counts of label '0': 7345 \n",
            "\n",
            "After OverSampling, the shape of train_X: (14690, 68)\n",
            "After OverSampling, the shape of train_y: (14690,) \n",
            "\n",
            "After OverSampling, counts of label '1': 7345\n",
            "After OverSampling, counts of label '0': 7345\n"
          ]
        }
      ],
      "source": [
        "# checking the number of 1s and 0s in the train set before over sampling\n",
        "print(\"Before OverSampling, counts of label '1': {}\".format(sum(y_train==1)))\n",
        "print(\"Before OverSampling, counts of label '0': {} \\n\".format(sum(y_train==0)))\n",
        "\n",
        "# using SMOTE (Synthetic Minority Oversampling Technique) to oversample the train set\n",
        "sm = SMOTE(random_state=2)\n",
        "X_train_res, y_train_res = sm.fit_resample(X_train, y_train)\n",
        "\n",
        "print('After OverSampling, the shape of train_X: {}'.format(X_train_res.shape))\n",
        "print('After OverSampling, the shape of train_y: {} \\n'.format(y_train_res.shape))\n",
        "\n",
        "# checking the number of 1s and 0s in the train set after over sampling\n",
        "print(\"After OverSampling, counts of label '1': {}\".format(sum(y_train_res==1)))\n",
        "print(\"After OverSampling, counts of label '0': {}\".format(sum(y_train_res==0)))"
      ]
    },
    {
      "cell_type": "code",
      "source": [
        "# creating a scatter plot of training data with class labels, to visualize the balance of the dataset.\n",
        "\n",
        "counter = Counter(y_train_res)\n",
        "print(counter)\n",
        "for label, _ in counter.items():\n",
        " row_ix = where(y_train_res == label)[0]\n",
        " plt.scatter(X_train_res[row_ix, 0], X_train_res[row_ix, 1], label=str(label))\n",
        "plt.legend()\n",
        "plt.show()"
      ],
      "metadata": {
        "colab": {
          "base_uri": "https://localhost:8080/",
          "height": 282
        },
        "id": "wQ0KaWuQVIWU",
        "outputId": "190d6c5c-d915-48f3-927e-f2db931734ae"
      },
      "execution_count": 18,
      "outputs": [
        {
          "output_type": "stream",
          "name": "stdout",
          "text": [
            "Counter({0: 7345, 1: 7345})\n"
          ]
        },
        {
          "output_type": "display_data",
          "data": {
            "text/plain": [
              "<Figure size 432x288 with 1 Axes>"
            ],
            "image/png": "[encoded data removed]"
          },
          "metadata": {
            "needs_background": "light"
          }
        }
      ]
    },
    {
      "cell_type": "code",
      "execution_count": 19,
      "metadata": {
        "colab": {
          "base_uri": "https://localhost:8080/"
        },
        "id": "eR9iiTF8KjD0",
        "outputId": "8842fc55-a2dd-40cd-da63-74b6d32fb09c"
      },
      "outputs": [
        {
          "output_type": "stream",
          "name": "stdout",
          "text": [
            "The accuracy of the Logistic Regression model on the train set:\n"
          ]
        },
        {
          "output_type": "execute_result",
          "data": {
            "text/plain": [
              "0.8505105513955071"
            ]
          },
          "metadata": {},
          "execution_count": 19
        }
      ],
      "source": [
        "# creating a parameter grid that will be used in a GridSearchCV\n",
        "parameters = {'C': np.linspace(1, 10, 10)}\n",
        "\n",
        "# LogisticRegression object\n",
        "lr = LogisticRegression(solver='liblinear')\n",
        "\n",
        "# GridSearchCV to find the best parameters for the Logistic Regression model\n",
        "clf = GridSearchCV(lr, parameters, cv=5)\n",
        "clf.fit(X_train_res, y_train_res)\n",
        "\n",
        "# To print the accuracy of the model on the train set\n",
        "print(\"The accuracy of the Logistic Regression model on the train set:\" )\n",
        "clf.score(X_train_res, y_train_res)"
      ]
    },
    {
      "cell_type": "code",
      "execution_count": 20,
      "metadata": {
        "colab": {
          "base_uri": "https://localhost:8080/"
        },
        "id": "yaF568NWKzBV",
        "outputId": "bb4175b6-7944-491d-f9c8-4a8f6ee775bf"
      },
      "outputs": [
        {
          "output_type": "execute_result",
          "data": {
            "text/plain": [
              "{'C': 3.0}"
            ]
          },
          "metadata": {},
          "execution_count": 20
        }
      ],
      "source": [
        "# prints the best parameters for the model\n",
        "clf.best_params_"
      ]
    },
    {
      "cell_type": "code",
      "execution_count": 21,
      "metadata": {
        "colab": {
          "base_uri": "https://localhost:8080/"
        },
        "id": "i6dRjvoHK6Nq",
        "outputId": "251ada4f-6649-4cff-89d5-4aa0f06df519"
      },
      "outputs": [
        {
          "output_type": "stream",
          "name": "stdout",
          "text": [
            "The accuracy of the Logistic Regression model on the test set:\n"
          ]
        },
        {
          "output_type": "execute_result",
          "data": {
            "text/plain": [
              "0.8469856718031901"
            ]
          },
          "metadata": {},
          "execution_count": 21
        }
      ],
      "source": [
        "# creating a new LogisticRegression object with the best parameters and fit the model to the train set\n",
        "lr1 = LogisticRegression(C=3,penalty='l1', solver='liblinear')\n",
        "lr1.fit(X_train_res, y_train_res)\n",
        "\n",
        "# To print the accuracy of the model on the test set\n",
        "print(\"The accuracy of the Logistic Regression model on the test set:\" )\n",
        "lr1.score(X_test,y_test)"
      ]
    },
    {
      "cell_type": "code",
      "execution_count": 22,
      "metadata": {
        "colab": {
          "base_uri": "https://localhost:8080/",
          "height": 296
        },
        "id": "YKoZsXp5Lnxg",
        "outputId": "9fed55d8-92c6-4f94-a5db-b35a8326bfba"
      },
      "outputs": [
        {
          "output_type": "stream",
          "name": "stdout",
          "text": [
            "The confusion matrix of the Logistic Regression model on the test set:\n"
          ]
        },
        {
          "output_type": "display_data",
          "data": {
            "text/plain": [
              "<Figure size 432x288 with 2 Axes>"
            ],
            "image/png": "[encoded data removed]"
          },
          "metadata": {
            "needs_background": "light"
          }
        }
      ],
      "source": [
        "# predict the target variable on the test set\n",
        "y_pred = lr1.predict(X_test)\n",
        "\n",
        "# create a confusion matrix to evaluate the performance of the model\n",
        "cnf_matrix = confusion_matrix(y_test, y_pred)\n",
        "\n",
        "# Plot non-normalized confusion matrix\n",
        "from sklearn.metrics import confusion_matrix, ConfusionMatrixDisplay\n",
        "disp = ConfusionMatrixDisplay(confusion_matrix=cnf_matrix)\n",
        "print(\"The confusion matrix of the Logistic Regression model on the test set:\" )\n",
        "\n",
        "# Set colors for confusion matrix\n",
        "disp.plot(cmap=plt.cm.Blues)\n",
        "\n",
        "plt.show()"
      ]
    },
    {
      "cell_type": "code",
      "source": [
        "yhat = lr1.predict_proba(X_test)   # probability\n",
        "\n",
        "# Compute ROC curve and ROC area for each class\n",
        "# class 0\n",
        "fpr_0, tpr_0, _ = roc_curve(y_test, yhat[:, 0], pos_label=0)\n",
        "roc_auc_0 = roc_auc_score(y_test, 1-yhat[:, 0])  # either\n",
        "roc_auc_0 = auc(fpr_0, tpr_0)               # or\n",
        "\n",
        "# class 1\n",
        "fpr_1, tpr_1, _ = roc_curve(y_test, yhat[:, 1], pos_label=1)\n",
        "roc_auc_1 = roc_auc_score(y_test, yhat[:, 1])    # either\n",
        "roc_auc_1 = auc(fpr_1, tpr_1)               # or\n",
        "\n",
        "# plot ROC curves\n",
        "print('roc_auc_0: ', roc_auc_0)\n",
        "print('roc_auc_1: ', roc_auc_1, '\\n')\n",
        "\n",
        "plt.plot(fpr_0, tpr_0, marker='.', label='Class 0', color='b')\n",
        "plt.plot(fpr_1, tpr_1, marker='.', label='Class 1', color='r')\n",
        "\n",
        "plt.xlabel('False Positive Rate')\n",
        "plt.ylabel('True Positive Rate')\n",
        "plt.legend()\n",
        "plt.show()\n",
        "\n",
        "print(\"\\n\", \"Classification report for Logistic Regression: \\n\", classification_report(y_test, y_pred))"
      ],
      "metadata": {
        "colab": {
          "base_uri": "https://localhost:8080/",
          "height": 522
        },
        "id": "ps-Xug293M27",
        "outputId": "965f3a40-62a4-4d77-ce0c-84598b37d324"
      },
      "execution_count": 23,
      "outputs": [
        {
          "output_type": "stream",
          "name": "stdout",
          "text": [
            "roc_auc_0:  0.893155524809629\n",
            "roc_auc_1:  0.893155524809629 \n",
            "\n"
          ]
        },
        {
          "output_type": "display_data",
          "data": {
            "text/plain": [
              "<Figure size 432x288 with 1 Axes>"
            ],
            "image/png": "[encoded data removed]"
          },
          "metadata": {
            "needs_background": "light"
          }
        },
        {
          "output_type": "stream",
          "name": "stdout",
          "text": [
            "\n",
            " Classification report for Logistic Regression: \n",
            "               precision    recall  f1-score   support\n",
            "\n",
            "           0       0.94      0.87      0.90      3077\n",
            "           1       0.53      0.75      0.62       622\n",
            "\n",
            "    accuracy                           0.85      3699\n",
            "   macro avg       0.74      0.81      0.76      3699\n",
            "weighted avg       0.87      0.85      0.86      3699\n",
            "\n"
          ]
        }
      ]
    },
    {
      "cell_type": "code",
      "source": [
        "# creating simple Logistic Regression model without GridSearchCV\n",
        "clf = LogisticRegression()\n",
        "clf.fit(X_train_res,y_train_res)\n",
        "\n",
        "# To print the accuracy of the model on the test set\n",
        "print(\"The accuracy of the Logistic Regression model on the test set:\" )\n",
        "clf.score(X_test,y_test)"
      ],
      "metadata": {
        "colab": {
          "base_uri": "https://localhost:8080/"
        },
        "id": "NVJM4wfX2eAf",
        "outputId": "17f8cc74-c5e8-485c-8146-be9d16810f8a"
      },
      "execution_count": 24,
      "outputs": [
        {
          "output_type": "stream",
          "name": "stdout",
          "text": [
            "The accuracy of the Logistic Regression model on the test set:\n"
          ]
        },
        {
          "output_type": "execute_result",
          "data": {
            "text/plain": [
              "0.8472560151392268"
            ]
          },
          "metadata": {},
          "execution_count": 24
        }
      ]
    },
    {
      "cell_type": "code",
      "execution_count": 25,
      "metadata": {
        "id": "y0Ie1qszHBFF",
        "colab": {
          "base_uri": "https://localhost:8080/",
          "height": 661
        },
        "outputId": "0519c2dc-5a04-432d-8b05-c5d19c65fe44"
      },
      "outputs": [
        {
          "output_type": "stream",
          "name": "stdout",
          "text": [
            "[1 0 0 ... 0 0 0]\n",
            "[[0.49895675 0.50104325]\n",
            " [0.76946816 0.23053184]\n",
            " [0.54425149 0.45574851]\n",
            " ...\n",
            " [0.95998069 0.04001931]\n",
            " [0.80454304 0.19545696]\n",
            " [0.77606371 0.22393629]]\n",
            "roc_auc_0:  0.8927338713638269\n",
            "roc_auc_1:  0.8927338713638269 \n",
            "\n"
          ]
        },
        {
          "output_type": "display_data",
          "data": {
            "text/plain": [
              "<Figure size 432x288 with 1 Axes>"
            ],
            "image/png": "[encoded data removed]"
          },
          "metadata": {
            "needs_background": "light"
          }
        },
        {
          "output_type": "stream",
          "name": "stdout",
          "text": [
            "\n",
            " Classification report: \n",
            "               precision    recall  f1-score   support\n",
            "\n",
            "           0       0.94      0.87      0.90      3077\n",
            "           1       0.53      0.75      0.62       622\n",
            "\n",
            "    accuracy                           0.85      3699\n",
            "   macro avg       0.74      0.81      0.76      3699\n",
            "weighted avg       0.87      0.85      0.86      3699\n",
            "\n"
          ]
        }
      ],
      "source": [
        "\n",
        "\n",
        "yhat = clf.predict_proba(X_test)   # probability\n",
        "y_pred = clf.predict(X_test)       # class label\n",
        "\n",
        "print(y_pred)\n",
        "print(yhat)\n",
        "\n",
        "# Compute ROC curve and ROC area for each class\n",
        "from sklearn.metrics import roc_curve, roc_auc_score, precision_recall_curve, confusion_matrix, auc, accuracy_score\n",
        "\n",
        "# class 0\n",
        "fpr_0, tpr_0, _ = roc_curve(y_test, yhat[:, 0], pos_label=0)\n",
        "roc_auc_0 = roc_auc_score(y_test, 1-yhat[:, 0])  # either\n",
        "roc_auc_0 = auc(fpr_0, tpr_0)               # or\n",
        "\n",
        "# class 1\n",
        "fpr_1, tpr_1, _ = roc_curve(y_test, yhat[:, 1], pos_label=1)\n",
        "roc_auc_1 = roc_auc_score(y_test, yhat[:, 1])    # either\n",
        "roc_auc_1 = auc(fpr_1, tpr_1)               # or\n",
        "\n",
        "# plot ROC curves\n",
        "print('roc_auc_0: ', roc_auc_0)\n",
        "print('roc_auc_1: ', roc_auc_1, '\\n')\n",
        "\n",
        "plt.plot(fpr_0, tpr_0, marker='.', label='Class 0', color='b')\n",
        "plt.plot(fpr_1, tpr_1, marker='.', label='Class 1', color='r')\n",
        "\n",
        "plt.xlabel('False Positive Rate')\n",
        "plt.ylabel('True Positive Rate')\n",
        "plt.legend()\n",
        "plt.show()\n",
        "\n",
        "print(\"\\n\", \"Classification report: \\n\", classification_report(y_test, y_pred))"
      ]
    },
    {
      "cell_type": "code",
      "source": [
        "# Training an SVM Classifier using Linear Kernel without cross-validation\n",
        "clf = svm.SVC(kernel=\"linear\", probability=True)\n",
        "clf.fit(X_train_res, y_train_res)\n",
        "\n",
        "# To print the accuracy of the model on the test set\n",
        "print(\"The accuracy of the SVM Liner model on the test set:\" )\n",
        "clf.score(X_test,y_test)"
      ],
      "metadata": {
        "colab": {
          "base_uri": "https://localhost:8080/"
        },
        "id": "AezbVGz-luK5",
        "outputId": "a116af32-6984-4407-ae65-b8d96c3b1b26"
      },
      "execution_count": 26,
      "outputs": [
        {
          "output_type": "stream",
          "name": "stdout",
          "text": [
            "The accuracy of the SVM Liner model on the test set:\n"
          ]
        },
        {
          "output_type": "execute_result",
          "data": {
            "text/plain": [
              "0.8680724520140578"
            ]
          },
          "metadata": {},
          "execution_count": 26
        }
      ]
    },
    {
      "cell_type": "code",
      "source": [
        "yhat = clf.predict_proba(X_test)\n",
        "y_pred = clf.predict(X_test) # class label\n",
        "\n",
        "# print(clf.score(X_test,y_test), '\\n') # mean accuracy\n",
        "# print(clf.decision_function(X_test), '\\n') # Distance of X to hyperplane"
      ],
      "metadata": {
        "id": "_VEC1ViHnvoP"
      },
      "execution_count": 27,
      "outputs": []
    },
    {
      "cell_type": "code",
      "source": [
        "# Compute ROC curve and ROC area for each class\n",
        "from sklearn.metrics import roc_curve, roc_auc_score, precision_recall_curve, confusion_matrix, auc, accuracy_score\n",
        "\n",
        "# class 0\n",
        "fpr_0, tpr_0, _ = roc_curve(y_test, yhat[:, 0], pos_label=0)\n",
        "roc_auc_0 = roc_auc_score(y_test, 1-yhat[:, 0])  # either\n",
        "roc_auc_0 = auc(fpr_0, tpr_0)               # or\n",
        "\n",
        "# class 1\n",
        "fpr_1, tpr_1, _ = roc_curve(y_test, yhat[:, 1], pos_label=1)\n",
        "roc_auc_1 = roc_auc_score(y_test, yhat[:, 1])    # either\n",
        "roc_auc_1 = auc(fpr_1, tpr_1)               # or\n",
        "\n",
        "# plot ROC curves\n",
        "print('roc_auc_0: ', roc_auc_0)\n",
        "print('roc_auc_1: ', roc_auc_1, '\\n')\n",
        "\n",
        "plt.plot(fpr_0, tpr_0, marker='.', label='Class 0', color='b')\n",
        "plt.plot(fpr_1, tpr_1, marker='.', label='Class 1', color='r')\n",
        "\n",
        "plt.xlabel('False Positive Rate')\n",
        "plt.ylabel('True Positive Rate')\n",
        "plt.legend()\n",
        "plt.show()\n",
        "\n",
        "print(\"\\n\", \"Classification report for SVM Linear: \\n\", classification_report(y_test, y_pred))"
      ],
      "metadata": {
        "colab": {
          "base_uri": "https://localhost:8080/",
          "height": 522
        },
        "id": "_mIBK67Mpozb",
        "outputId": "8643bb61-3953-42a1-aa18-0a0562714af9"
      },
      "execution_count": 28,
      "outputs": [
        {
          "output_type": "stream",
          "name": "stdout",
          "text": [
            "roc_auc_0:  0.9042465256696557\n",
            "roc_auc_1:  0.9042465256696558 \n",
            "\n"
          ]
        },
        {
          "output_type": "display_data",
          "data": {
            "text/plain": [
              "<Figure size 432x288 with 1 Axes>"
            ],
            "image/png": "[encoded data removed]"
          },
          "metadata": {
            "needs_background": "light"
          }
        },
        {
          "output_type": "stream",
          "name": "stdout",
          "text": [
            "\n",
            " Classification report for SVM Linear: \n",
            "               precision    recall  f1-score   support\n",
            "\n",
            "           0       0.94      0.90      0.92      3077\n",
            "           1       0.59      0.73      0.65       622\n",
            "\n",
            "    accuracy                           0.87      3699\n",
            "   macro avg       0.76      0.81      0.78      3699\n",
            "weighted avg       0.88      0.87      0.87      3699\n",
            "\n"
          ]
        }
      ]
    },
    {
      "cell_type": "code",
      "execution_count": 29,
      "metadata": {
        "id": "CJvMFpjgHL9X",
        "colab": {
          "base_uri": "https://localhost:8080/"
        },
        "outputId": "daeef6f8-5b0e-48b1-9921-a5742ea181ac"
      },
      "outputs": [
        {
          "output_type": "stream",
          "name": "stdout",
          "text": [
            "The accuracy of the SVM RBF model on the test set:\n"
          ]
        },
        {
          "output_type": "execute_result",
          "data": {
            "text/plain": [
              "0.8480670451473371"
            ]
          },
          "metadata": {},
          "execution_count": 29
        }
      ],
      "source": [
        "# Training an SVM Classifier using RBF Kernel without cross-validation\n",
        "clf = svm.SVC(kernel=\"rbf\", probability=True)\n",
        "clf.fit(X_train_res, y_train_res)\n",
        "\n",
        "# To print the accuracy of the model on the test set\n",
        "print(\"The accuracy of the SVM RBF model on the test set:\" )\n",
        "clf.score(X_test,y_test)"
      ]
    },
    {
      "cell_type": "code",
      "source": [
        "yhat = clf.predict_proba(X_test)   # probability\n",
        "y_pred = clf.predict(X_test)       # class label\n",
        "\n",
        "# Compute ROC curve and ROC area for each class\n",
        "from sklearn.metrics import roc_curve, roc_auc_score, precision_recall_curve, confusion_matrix, auc, accuracy_score\n",
        "\n",
        "# class 0\n",
        "fpr_0, tpr_0, _ = roc_curve(y_test, yhat[:, 0], pos_label=0)\n",
        "roc_auc_0 = roc_auc_score(y_test, 1-yhat[:, 0])  # either\n",
        "roc_auc_0 = auc(fpr_0, tpr_0)               # or\n",
        "\n",
        "# class 1\n",
        "fpr_1, tpr_1, _ = roc_curve(y_test, yhat[:, 1], pos_label=1)\n",
        "roc_auc_1 = roc_auc_score(y_test, yhat[:, 1])    # either\n",
        "roc_auc_1 = auc(fpr_1, tpr_1)               # or\n",
        "\n",
        "# plot ROC curves\n",
        "print('roc_auc_0: ', roc_auc_0)\n",
        "print('roc_auc_1: ', roc_auc_1, '\\n')\n",
        "\n",
        "plt.plot(fpr_0, tpr_0, marker='.', label='Class 0', color='b')\n",
        "plt.plot(fpr_1, tpr_1, marker='.', label='Class 1', color='r')\n",
        "\n",
        "plt.xlabel('False Positive Rate')\n",
        "plt.ylabel('True Positive Rate')\n",
        "plt.legend()\n",
        "plt.show()\n",
        "\n",
        "print(\"\\n\", \"Classification report for SVM RBF Kernel: \\n\", classification_report(y_test, y_pred))"
      ],
      "metadata": {
        "colab": {
          "base_uri": "https://localhost:8080/",
          "height": 522
        },
        "id": "u2vqHRgHPXxc",
        "outputId": "26f6b5c6-85a9-49ec-ec74-4e75b7788b4b"
      },
      "execution_count": 30,
      "outputs": [
        {
          "output_type": "stream",
          "name": "stdout",
          "text": [
            "roc_auc_0:  0.8701252524956973\n",
            "roc_auc_1:  0.8701252524956974 \n",
            "\n"
          ]
        },
        {
          "output_type": "display_data",
          "data": {
            "text/plain": [
              "<Figure size 432x288 with 1 Axes>"
            ],
            "image/png": "[encoded data removed]"
          },
          "metadata": {
            "needs_background": "light"
          }
        },
        {
          "output_type": "stream",
          "name": "stdout",
          "text": [
            "\n",
            " Classification report for SVM RBF Kernel: \n",
            "               precision    recall  f1-score   support\n",
            "\n",
            "           0       0.93      0.88      0.91      3077\n",
            "           1       0.54      0.67      0.60       622\n",
            "\n",
            "    accuracy                           0.85      3699\n",
            "   macro avg       0.73      0.78      0.75      3699\n",
            "weighted avg       0.86      0.85      0.85      3699\n",
            "\n"
          ]
        }
      ]
    },
    {
      "cell_type": "code",
      "execution_count": 31,
      "metadata": {
        "id": "7VZU_P6vHPxP",
        "colab": {
          "base_uri": "https://localhost:8080/"
        },
        "outputId": "8b690a32-03de-41ba-be52-a01bbdb6ddd1"
      },
      "outputs": [
        {
          "output_type": "stream",
          "name": "stdout",
          "text": [
            "The accuracy of the SVM Sigmoid model on the test set:\n"
          ]
        },
        {
          "output_type": "execute_result",
          "data": {
            "text/plain": [
              "0.7564206542308732"
            ]
          },
          "metadata": {},
          "execution_count": 31
        }
      ],
      "source": [
        "# Training an SVM Classifier using Sigmoid Kernel  without cross-validation\n",
        "clf = svm.SVC(kernel=\"sigmoid\", probability=True)\n",
        "clf.fit(X_train_res,y_train_res)\n",
        "\n",
        "# To print the accuracy of the model on the test set\n",
        "print(\"The accuracy of the SVM Sigmoid model on the test set:\" )\n",
        "clf.score(X_test,y_test)"
      ]
    },
    {
      "cell_type": "code",
      "source": [
        "yhat = clf.predict_proba(X_test)   # probability\n",
        "y_pred = clf.predict(X_test)       # class label\n",
        "\n",
        "# Compute ROC curve and ROC area for each class\n",
        "from sklearn.metrics import roc_curve, roc_auc_score, precision_recall_curve, confusion_matrix, auc, accuracy_score\n",
        "\n",
        "# class 0\n",
        "fpr_0, tpr_0, _ = roc_curve(y_test, yhat[:, 0], pos_label=0)\n",
        "roc_auc_0 = roc_auc_score(y_test, 1-yhat[:, 0])  # either\n",
        "roc_auc_0 = auc(fpr_0, tpr_0)               # or\n",
        "\n",
        "# class 1\n",
        "fpr_1, tpr_1, _ = roc_curve(y_test, yhat[:, 1], pos_label=1)\n",
        "roc_auc_1 = roc_auc_score(y_test, yhat[:, 1])    # either\n",
        "roc_auc_1 = auc(fpr_1, tpr_1)               # or\n",
        "\n",
        "# plot ROC curves\n",
        "print('roc_auc_0: ', roc_auc_0)\n",
        "print('roc_auc_1: ', roc_auc_1, '\\n')\n",
        "\n",
        "plt.plot(fpr_0, tpr_0, marker='.', label='Class 0', color='b')\n",
        "plt.plot(fpr_1, tpr_1, marker='.', label='Class 1', color='r')\n",
        "\n",
        "plt.xlabel('False Positive Rate')\n",
        "plt.ylabel('True Positive Rate')\n",
        "plt.legend()\n",
        "plt.show()\n",
        "\n",
        "print(\"\\n\", \"Classification report for SVM Sigmoid Kernel: \\n\", classification_report(y_test, y_pred))"
      ],
      "metadata": {
        "colab": {
          "base_uri": "https://localhost:8080/",
          "height": 522
        },
        "id": "DOOHrHVsPY3q",
        "outputId": "ecccf147-bcdd-44ac-8738-5d12e79cb64b"
      },
      "execution_count": 32,
      "outputs": [
        {
          "output_type": "stream",
          "name": "stdout",
          "text": [
            "roc_auc_0:  0.8083619051002825\n",
            "roc_auc_1:  0.8083619051002825 \n",
            "\n"
          ]
        },
        {
          "output_type": "display_data",
          "data": {
            "text/plain": [
              "<Figure size 432x288 with 1 Axes>"
            ],
            "image/png": "[encoded data removed]"
          },
          "metadata": {
            "needs_background": "light"
          }
        },
        {
          "output_type": "stream",
          "name": "stdout",
          "text": [
            "\n",
            " Classification report for SVM Sigmoid Kernel: \n",
            "               precision    recall  f1-score   support\n",
            "\n",
            "           0       0.94      0.76      0.84      3077\n",
            "           1       0.38      0.74      0.51       622\n",
            "\n",
            "    accuracy                           0.76      3699\n",
            "   macro avg       0.66      0.75      0.67      3699\n",
            "weighted avg       0.84      0.76      0.78      3699\n",
            "\n"
          ]
        }
      ]
    },
    {
      "cell_type": "code",
      "source": [
        "# comparing different type of SVM Models Using GridSearchCV\n",
        "\n",
        "parameters = [\n",
        "    {\"kernel\": [\"sigmoid\"]},\n",
        "    {\"kernel\": [\"poly\"], \"degree\": [2,3]},\n",
        "    {\"kernel\": [\"rbf\"]}, \n",
        "    {\"kernel\": [\"linear\"]}  \n",
        "]\n",
        "\n",
        "# creating new svc object using SVC class from the sklearn.svm module\n",
        "svc = svm.SVC()\n",
        "# creating a GridSearchCV object with the SVC object using the specified parameters to do 10-fold cross-validation\n",
        "clf = GridSearchCV(svc, parameters, cv=10)\n",
        "# fitting the GridSearchCV object to the training data\n",
        "clf.fit(X_train_res, y_train_res)\n",
        "\n",
        "# sorting the cv_results_ dictionary, which contains the cross-validation results\n",
        "sorted(clf.cv_results_.keys())\n",
        "\n",
        "# createing a pandas DataFrame from the cv_results_ dictionary\n",
        "results_df = pd.DataFrame(clf.cv_results_)\n",
        "# sorting the DataFrame by the rank_test_score column\n",
        "results_df = results_df.sort_values(by=[\"rank_test_score\"])\n",
        "# setting the index of the DataFrame to the hyperparameter combinations, and renames the index column as \"kernel\"\n",
        "results_df = results_df.set_index(results_df[\"params\"].apply(lambda x: \"_\".join(str(val) for val in x.values()))).rename_axis(\"kernel\")\n",
        "print(results_df[[\"params\", \"rank_test_score\", \"mean_test_score\", \"std_test_score\"]])\n",
        "\n",
        "# create df of model scores ordered by performance\n",
        "model_scores = results_df.filter(regex=r\"split\\d*_test_score\")\n",
        "\n",
        "# Create a dictionary mapping the column names\n",
        "column_mapping = {f'split{i}_test_score': f'{i+1}' for i in range(10)}\n",
        "\n",
        "# Rename columns using the mapping\n",
        "model_scores.rename(columns=column_mapping, inplace=True)\n",
        "\n",
        "# plot 30 examples of dependency between cv fold and AUC scores\n",
        "fig, ax = plt.subplots()\n",
        "sns.lineplot(\n",
        "    data=model_scores.transpose().iloc[:30],\n",
        "    dashes=False,\n",
        "    palette=\"Set1\",\n",
        "    marker=\"o\",\n",
        "    alpha=0.5,\n",
        "    ax=ax,\n",
        ")\n",
        "ax.set_xlabel(\"CV test fold\")\n",
        "ax.set_ylabel(\"Model AUC\")\n",
        "ax.tick_params(bottom=True, labelbottom=True)\n",
        "plt.show()"
      ],
      "metadata": {
        "id": "nHMR83CvU4KC",
        "colab": {
          "base_uri": "https://localhost:8080/",
          "height": 626
        },
        "outputId": "e1cfe988-1719-4781-c489-0b4929fbb203"
      },
      "execution_count": 33,
      "outputs": [
        {
          "output_type": "stream",
          "name": "stdout",
          "text": [
            "                                  params  rank_test_score  mean_test_score  \\\n",
            "kernel                                                                       \n",
            "rbf                    {'kernel': 'rbf'}                1         0.902655   \n",
            "3_poly   {'degree': 3, 'kernel': 'poly'}                2         0.864738   \n",
            "linear              {'kernel': 'linear'}                3         0.860585   \n",
            "2_poly   {'degree': 2, 'kernel': 'poly'}                4         0.819129   \n",
            "sigmoid            {'kernel': 'sigmoid'}                5         0.775630   \n",
            "\n",
            "         std_test_score  \n",
            "kernel                   \n",
            "rbf            0.016675  \n",
            "3_poly         0.013841  \n",
            "linear         0.012226  \n",
            "2_poly         0.020395  \n",
            "sigmoid        0.010112  \n"
          ]
        },
        {
          "output_type": "stream",
          "name": "stderr",
          "text": [
            "/usr/local/lib/python3.8/dist-packages/pandas/core/frame.py:5039: SettingWithCopyWarning: \n",
            "A value is trying to be set on a copy of a slice from a DataFrame\n",
            "\n",
            "See the caveats in the documentation: https://pandas.pydata.org/pandas-docs/stable/user_guide/indexing.html#returning-a-view-versus-a-copy\n",
            "  return super().rename(\n"
          ]
        },
        {
          "output_type": "display_data",
          "data": {
            "text/plain": [
              "<Figure size 432x288 with 1 Axes>"
            ],
            "image/png": "[encoded data removed]"
          },
          "metadata": {
            "needs_background": "light"
          }
        }
      ]
    },
    {
      "cell_type": "code",
      "source": [
        "# comparing different type of SVM Models Using GridSearchCV and RepeatedStratifiedKFold\n",
        "\n",
        "svc = SVC(random_state=0)\n",
        "# createing a RepeatedStratifiedKFold object named cv, which is a cross-validation object that will use 5-fold stratified cross-validation and repeat it 4 times. The random_state is set to 0.\n",
        "cv = RepeatedStratifiedKFold(n_splits=5, n_repeats=4, random_state=0)\n",
        "# creating a GridSearchCV object named search with the estimator set to svc, the parameters to search to the parameter grid, the scoring method to roc_auc, and the cross-validation object to cv.\n",
        "search = GridSearchCV(estimator=svc, param_grid=parameters, scoring=\"roc_auc\", cv=cv)\n",
        "# fitting the GridSearchCV object to the training data\n",
        "search.fit(X_train_res, y_train_res)\n",
        "\n",
        "# createing a pandas DataFrame from the cv_results_ dictionary\n",
        "results_df = pd.DataFrame(search.cv_results_)\n",
        "# sorting the DataFrame by the rank_test_score column\n",
        "results_df = results_df.sort_values(by=[\"rank_test_score\"])\n",
        "# setting the index of the DataFrame to the hyperparameter combinations, and renames the index column as \"kernel\"\n",
        "results_df = results_df.set_index(\n",
        "    results_df[\"params\"].apply(lambda x: \"_\".join(str(val) for val in x.values()))\n",
        ").rename_axis(\"kernel\")\n",
        "print(results_df[[\"params\", \"rank_test_score\", \"mean_test_score\", \"std_test_score\"]])\n",
        "\n",
        "# create df of model scores ordered by performance\n",
        "model_scores = results_df.filter(regex=r\"split\\d*_test_score\")\n",
        "\n",
        "# Create a dictionary mapping the column names\n",
        "column_mapping = {f'split{i}_test_score': f'{i+1}' for i in range(30)}\n",
        "\n",
        "# Rename columns using the mapping\n",
        "model_scores.rename(columns=column_mapping, inplace=True)\n",
        "\n",
        "# plot 30 examples of dependency between cv fold and AUC scores\n",
        "fig, ax = plt.subplots()\n",
        "sns.lineplot(\n",
        "    data=model_scores.transpose().iloc[:30],\n",
        "    dashes=False,\n",
        "    palette=\"Set1\",\n",
        "    marker=\"o\",\n",
        "    alpha=0.5,\n",
        "    ax=ax,\n",
        ")\n",
        "ax.set_xlabel(\"CV test fold\")\n",
        "ax.set_ylabel(\"Model AUC\")\n",
        "ax.tick_params(bottom=True, labelbottom=True)\n",
        "plt.show()"
      ],
      "metadata": {
        "colab": {
          "base_uri": "https://localhost:8080/",
          "height": 626
        },
        "id": "If4hA53L2ypH",
        "outputId": "c7e5206e-9b03-4b35-f3bb-ff45c3a422b6"
      },
      "execution_count": 34,
      "outputs": [
        {
          "output_type": "stream",
          "name": "stdout",
          "text": [
            "                                  params  rank_test_score  mean_test_score  \\\n",
            "kernel                                                                       \n",
            "rbf                    {'kernel': 'rbf'}                1         0.955715   \n",
            "3_poly   {'degree': 3, 'kernel': 'poly'}                2         0.936667   \n",
            "linear              {'kernel': 'linear'}                3         0.934184   \n",
            "2_poly   {'degree': 2, 'kernel': 'poly'}                4         0.897649   \n",
            "sigmoid            {'kernel': 'sigmoid'}                5         0.838759   \n",
            "\n",
            "         std_test_score  \n",
            "kernel                   \n",
            "rbf            0.003349  \n",
            "3_poly         0.003128  \n",
            "linear         0.004169  \n",
            "2_poly         0.004840  \n",
            "sigmoid        0.010471  \n"
          ]
        },
        {
          "output_type": "stream",
          "name": "stderr",
          "text": [
            "/usr/local/lib/python3.8/dist-packages/pandas/core/frame.py:5039: SettingWithCopyWarning: \n",
            "A value is trying to be set on a copy of a slice from a DataFrame\n",
            "\n",
            "See the caveats in the documentation: https://pandas.pydata.org/pandas-docs/stable/user_guide/indexing.html#returning-a-view-versus-a-copy\n",
            "  return super().rename(\n"
          ]
        },
        {
          "output_type": "display_data",
          "data": {
            "text/plain": [
              "<Figure size 432x288 with 1 Axes>"
            ],
            "image/png": "[encoded data removed]"
          },
          "metadata": {
            "needs_background": "light"
          }
        }
      ]
    }
  ],
  "metadata": {
    "colab": {
      "provenance": []
    },
    "kernelspec": {
      "display_name": "Python 3",
      "name": "python3"
    },
    "language_info": {
      "name": "python"
    }
  },
  "nbformat": 4,
  "nbformat_minor": 0
}